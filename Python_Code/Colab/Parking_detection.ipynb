{
  "cells": [
    {
      "cell_type": "code",
      "execution_count": null,
      "metadata": {
        "id": "kSda91SdpWl4"
      },
      "outputs": [],
      "source": [
        "import cv2\n",
        "from google.colab.patches import cv2_imshow\n",
        "from ultralytics import YOLO\n",
        "import numpy as np\n",
        "#from AWSIoTPythonSDK.MQTTLib import AWSIoTMQTTClient\n",
        "import json"
      ]
    },
    {
      "cell_type": "code",
      "execution_count": null,
      "metadata": {
        "id": "NguaICyzRwdw"
      },
      "outputs": [],
      "source": [
        "#_______reading parking coordinates from .txt file___________#\n",
        "\n",
        "def cord(path):\n",
        "  with open(path, 'r') as file:\n",
        "    coordinates =eval( file.read())\n",
        "\n",
        "  #___________________Parking coordinates____________________#\n",
        "\n",
        "  cord_dict={}\n",
        "  for i in range(len(coordinates)):\n",
        "    cord_dict['slot'+str(i)]=np.array(coordinates[i],np.int32)\n",
        "  return cord_dict\n"
      ]
    },
    {
      "cell_type": "code",
      "source": [
        "'''#___________________________________AWS IoT core SETUP______________________________________#\n",
        "\n",
        "client = AWSIoTMQTTClient(\"MyClientID\")\n",
        "client.configureEndpoint(\"a4w2za7t2smbw-ats.iot.us-east-1.amazonaws.com\", 8883)\n",
        "client.configureCredentials(\n",
        "    \"AmazonRootCA1.pem\",\n",
        "    \"private.pem.key\",\n",
        "    \"certificate.pem.crt\"\n",
        ")\n",
        "\n",
        "client.configureConnectDisconnectTimeout(15)  # 10 sec\n",
        "client.configureMQTTOperationTimeout(10)  # 5 sec\n",
        "\n",
        "\n",
        "print(\"Connecting to AWS IoT Core...\")\n",
        "if client.connect():\n",
        "    print(\"Connected to AWS IoT Core!\")\n",
        "else:\n",
        "    print(\"Failed to connect to AWS IoT Core.\")\n",
        "\n",
        "\n",
        "topic = \"ParkEase\" '''"
      ],
      "metadata": {
        "id": "UsbHqyfWvT60"
      },
      "execution_count": null,
      "outputs": []
    },
    {
      "cell_type": "code",
      "execution_count": null,
      "metadata": {
        "id": "W2jBP6jhsWBq"
      },
      "outputs": [],
      "source": [
        "def yolo_detection(frame):\n",
        "  detected_car={}\n",
        "  result=Model(frame)\n",
        "\n",
        "  #________________________________detected car Coordinates And Class__________________________________________________#\n",
        "\n",
        "  for re in result:\n",
        "    box=re.boxes.xyxy\n",
        "    classes=re.boxes.cls\n",
        "    for i in range(len(re)):\n",
        "      if classes[i]==2:\n",
        "\n",
        "       #_______________________________bounding box__________________________________________________________#\n",
        "\n",
        "        #cv2.rectangle(frame,(int(box[i][0]),int(box[i][1])),(int(box[i][2]),int(box[i][3])),(0,255,0),2)        -\n",
        "                                                                                                                 -\n",
        "\n",
        "       #_________________________________Mid point____________________________________________________________#\n",
        "\n",
        "        Xcenter=int((box[i][0]+box[i][2])//2)\n",
        "        Ycenter=int((box[i][1]+box[i][3])//2)\n",
        "        center=(Xcenter,Ycenter)\n",
        "        cv2.circle(frame,center,1,(255,0,0),-1)\n",
        "\n",
        "\n",
        "        for slot, coordinates in parking_coordinates.items():\n",
        "\n",
        "          result = cv2.pointPolygonTest((coordinates), center, False)   #_____if center inside the polygon returns -1, outside returns +1, in between returns 0_______#\n",
        "\n",
        "          if result < 0:\n",
        "            colour=(0,0,255)\n",
        "            thickness=1\n",
        "            detected_car[slot]='Occupied'\n",
        "          else:\n",
        "            detected_car[slot]='Free'\n",
        "            colour=(0,255,0)\n",
        "            thickness=1\n",
        "          cv2.polylines(frame, [coordinates], True, colour, thickness)\n",
        "  cv2_imshow(frame)\n",
        "  return detected_car\n",
        "\n"
      ]
    },
    {
      "cell_type": "code",
      "source": [
        "'''#______________________________Publish data___________________________________________________________________#\n",
        "\n",
        "def publush(data):\n",
        "  payload = {data}\n",
        "  client.publish(topic, json.dumps(payload), 1) '''"
      ],
      "metadata": {
        "id": "zJo-BWyjv95A"
      },
      "execution_count": null,
      "outputs": []
    },
    {
      "cell_type": "code",
      "execution_count": null,
      "metadata": {
        "id": "lW8yNz0OqBc1"
      },
      "outputs": [],
      "source": [
        "video1=cv2.VideoCapture('/content/drive/MyDrive/Project_v1/Video/leaving.mp4')       #<-------------path to video_______________#"
      ]
    },
    {
      "cell_type": "code",
      "execution_count": null,
      "metadata": {
        "id": "G3GPFX1tpqkG"
      },
      "outputs": [],
      "source": [
        "Model=YOLO('yolov8n.pt')  #Model"
      ]
    },
    {
      "cell_type": "code",
      "execution_count": null,
      "metadata": {
        "id": "_IvYx7bTcEFa"
      },
      "outputs": [],
      "source": [
        "path='/content/drive/MyDrive/Project_v1/Coordinates/Coordinates(Leaving).txt.txt'     #<------------Path to .txt file (Coordinates)_____________________#\n",
        "parking_coordinates=cord(path)"
      ]
    },
    {
      "cell_type": "code",
      "source": [
        "from google.colab import drive\n",
        "drive.mount('/content/drive')"
      ],
      "metadata": {
        "colab": {
          "base_uri": "https://localhost:8080/"
        },
        "id": "crWBBywPT-C2",
        "outputId": "ac560e3c-326e-4f23-e6cf-e9c66d503d38"
      },
      "execution_count": 1,
      "outputs": [
        {
          "output_type": "stream",
          "name": "stdout",
          "text": [
            "Mounted at /content/drive\n"
          ]
        }
      ]
    },
    {
      "cell_type": "code",
      "execution_count": null,
      "metadata": {
        "id": "Jh10_YAxqtB3"
      },
      "outputs": [],
      "source": [
        "\n",
        "while True:\n",
        "  cap1, frame1=video1.read()\n",
        "  if cap1==False:\n",
        "    break\n",
        "\n",
        "  frame1=cv2.resize(frame1,(640,640))\n",
        "  occupancy=yolo_detection(frame1)\n",
        "  print(occupancy)\n",
        "\n",
        "\n",
        "\n",
        "\n",
        "  if cv2.waitKey(1) & 0xFF == ord('q'):\n",
        "    break\n",
        "\n",
        "video1.release()\n",
        "cv2.destroyAllWindows()"
      ]
    }
  ],
  "metadata": {
    "colab": {
      "provenance": []
    },
    "kernelspec": {
      "display_name": "Python 3",
      "name": "python3"
    },
    "language_info": {
      "name": "python"
    }
  },
  "nbformat": 4,
  "nbformat_minor": 0
}